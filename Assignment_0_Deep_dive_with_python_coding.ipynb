{
  "nbformat": 4,
  "nbformat_minor": 0,
  "metadata": {
    "colab": {
      "provenance": [],
      "authorship_tag": "ABX9TyOd825AuBfKItZtg6YGvdOX",
      "include_colab_link": true
    },
    "kernelspec": {
      "name": "python3",
      "display_name": "Python 3"
    },
    "language_info": {
      "name": "python"
    }
  },
  "cells": [
    {
      "cell_type": "markdown",
      "metadata": {
        "id": "view-in-github",
        "colab_type": "text"
      },
      "source": [
        "<a href=\"https://colab.research.google.com/github/sujittra32477/Tools-For-DS-Assignment-0/blob/main/Assignment_0_Deep_dive_with_python_coding.ipynb\" target=\"_parent\"><img src=\"https://colab.research.google.com/assets/colab-badge.svg\" alt=\"Open In Colab\"/></a>"
      ]
    },
    {
      "cell_type": "markdown",
      "source": [
        "#**Assignment 0: Deep dive with python coding**\n",
        "**Name :** Sujittra Ptadabploy\n",
        "\n",
        "**Stu. Code :** 6304052610306\n"
      ],
      "metadata": {
        "id": "VmSJ-LakWhDP"
      }
    },
    {
      "cell_type": "markdown",
      "source": [
        "1. Consider a sequence of n Bernoulli trials with success probabilty p per trial. A string of consecutive successes is known as a success run. Write a function that returns the counts for runs of length k for each k observed in a dictionary."
      ],
      "metadata": {
        "id": "cn_j-ykhNT9p"
      }
    },
    {
      "cell_type": "code",
      "source": [
        "from collections import Counter\n",
        "import numpy as np"
      ],
      "metadata": {
        "id": "BSyAljl7gII3"
      },
      "execution_count": 32,
      "outputs": []
    },
    {
      "cell_type": "code",
      "source": [
        "def count_runs(xs):\n",
        "      \"\"\"Count number of success runs of length k.\"\"\"\n",
        "      ys = []\n",
        "      count = 0\n",
        "      for x in xs:\n",
        "        if x == 1:\n",
        "          count += 1\n",
        "        else:\n",
        "          if count: ys.append(count)\n",
        "          count = 0\n",
        "      if count: ys.append(count)\n",
        "      return Counter(ys)"
      ],
      "metadata": {
        "id": "Jmh4H4oXJMsr"
      },
      "execution_count": 33,
      "outputs": []
    },
    {
      "cell_type": "code",
      "source": [
        "count_runs([0, 1, 0, 1, 1, 0, 0, 0, 0, 1],)"
      ],
      "metadata": {
        "colab": {
          "base_uri": "https://localhost:8080/"
        },
        "id": "b0I0NkYfL8ov",
        "outputId": "42e70781-b94b-4627-cd94-7deca55da427"
      },
      "execution_count": 22,
      "outputs": [
        {
          "output_type": "execute_result",
          "data": {
            "text/plain": [
              "Counter({1: 2, 2: 1})"
            ]
          },
          "metadata": {},
          "execution_count": 22
        }
      ]
    },
    {
      "cell_type": "code",
      "source": [
        "count_runs([0, 1, 0, 1, 1, 0, 0, 0, 0, 1,1,0,1,1,1],)"
      ],
      "metadata": {
        "colab": {
          "base_uri": "https://localhost:8080/"
        },
        "id": "8UweIoRIMtk5",
        "outputId": "4be401a1-5697-4788-f693-664b454e02bd"
      },
      "execution_count": 23,
      "outputs": [
        {
          "output_type": "execute_result",
          "data": {
            "text/plain": [
              "Counter({1: 1, 2: 2, 3: 1})"
            ]
          },
          "metadata": {},
          "execution_count": 23
        }
      ]
    },
    {
      "cell_type": "code",
      "source": [
        "count_runs(np.random.randint(0,2,1000000))"
      ],
      "metadata": {
        "colab": {
          "base_uri": "https://localhost:8080/"
        },
        "id": "erozlIo0YCiF",
        "outputId": "10438fb6-0f19-4692-9fe2-77514df18896"
      },
      "execution_count": 24,
      "outputs": [
        {
          "output_type": "execute_result",
          "data": {
            "text/plain": [
              "Counter({1: 125208,\n",
              "         2: 62464,\n",
              "         4: 15584,\n",
              "         8: 950,\n",
              "         3: 31373,\n",
              "         9: 451,\n",
              "         5: 7820,\n",
              "         7: 1984,\n",
              "         6: 3818,\n",
              "         10: 246,\n",
              "         13: 36,\n",
              "         12: 60,\n",
              "         11: 120,\n",
              "         14: 15,\n",
              "         15: 10,\n",
              "         17: 3,\n",
              "         16: 5,\n",
              "         21: 1})"
            ]
          },
          "metadata": {},
          "execution_count": 24
        }
      ]
    },
    {
      "cell_type": "markdown",
      "source": [
        "2. Continuing from Part 1, what is the probability of observing at least one run of length 5 or more when n=100 and p=0.5?. Estimate this from 100,000 simulated experiments. Is this more, less or equally likely than finding runs of length 7 or more when p=0.7 ?"
      ],
      "metadata": {
        "id": "qHNEMNKrOAiD"
      }
    },
    {
      "cell_type": "code",
      "source": [
        "def run_prob(expts, n, k, p):\n",
        "    xxs = np.random.choice([0,1], (expts, n), p=(1-p, p))\n",
        "    return sum(max(d.keys()) >= k for d in map(count_runs, xxs))/expts"
      ],
      "metadata": {
        "id": "DRF3QSEMOE5T"
      },
      "execution_count": 36,
      "outputs": []
    },
    {
      "cell_type": "code",
      "source": [
        "run_prob(expts=100000, n=100, k=5, p=0.5)"
      ],
      "metadata": {
        "colab": {
          "base_uri": "https://localhost:8080/"
        },
        "id": "BOQB0BgRd7hi",
        "outputId": "bc8399b9-58fa-49b3-c7f3-6b873ea9e2e6"
      },
      "execution_count": 37,
      "outputs": [
        {
          "output_type": "execute_result",
          "data": {
            "text/plain": [
              "0.80935"
            ]
          },
          "metadata": {},
          "execution_count": 37
        }
      ]
    },
    {
      "cell_type": "code",
      "source": [
        "run_prob(expts=100000, n=100, k=7, p=0.7)"
      ],
      "metadata": {
        "colab": {
          "base_uri": "https://localhost:8080/"
        },
        "id": "hqvBIEXKgzXM",
        "outputId": "bf3d2f62-c01f-4265-a253-1eb4641413c5"
      },
      "execution_count": 38,
      "outputs": [
        {
          "output_type": "execute_result",
          "data": {
            "text/plain": [
              "0.94883"
            ]
          },
          "metadata": {},
          "execution_count": 38
        }
      ]
    }
  ]
}